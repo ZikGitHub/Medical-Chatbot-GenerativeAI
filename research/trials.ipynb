{
 "cells": [
  {
   "cell_type": "markdown",
   "metadata": {},
   "source": [
    "## Select proper directory"
   ]
  },
  {
   "cell_type": "code",
   "execution_count": 1,
   "metadata": {},
   "outputs": [
    {
     "data": {
      "text/plain": [
       "'e:\\\\AIML\\\\BappyML\\\\GenAI-medical-chatbot\\\\Medical-Chatbot-GenerativeAI\\\\research'"
      ]
     },
     "execution_count": 1,
     "metadata": {},
     "output_type": "execute_result"
    }
   ],
   "source": [
    "import os\n",
    "%pwd"
   ]
  },
  {
   "cell_type": "code",
   "execution_count": 2,
   "metadata": {},
   "outputs": [
    {
     "data": {
      "text/plain": [
       "'e:\\\\AIML\\\\BappyML\\\\GenAI-medical-chatbot\\\\Medical-Chatbot-GenerativeAI'"
      ]
     },
     "execution_count": 2,
     "metadata": {},
     "output_type": "execute_result"
    }
   ],
   "source": [
    "os.chdir(\"../\")\n",
    "%pwd"
   ]
  },
  {
   "cell_type": "code",
   "execution_count": 3,
   "metadata": {},
   "outputs": [],
   "source": [
    "from langchain.document_loaders import PyPDFLoader, DirectoryLoader\n",
    "from langchain.text_splitter import RecursiveCharacterTextSplitter"
   ]
  },
  {
   "cell_type": "markdown",
   "metadata": {},
   "source": [
    "## helper functions:"
   ]
  },
  {
   "cell_type": "markdown",
   "metadata": {},
   "source": [
    "### load pdf using langchain"
   ]
  },
  {
   "cell_type": "code",
   "execution_count": 4,
   "metadata": {},
   "outputs": [],
   "source": [
    "# Extract Data from the pdf file\n",
    "def load_pdf_file(data):\n",
    "    loader = DirectoryLoader(\n",
    "        data,\n",
    "        glob=\"*.pdf\",\n",
    "        loader_cls=PyPDFLoader,\n",
    "    )\n",
    "    documents = loader.load()\n",
    "    return documents\n",
    "\n",
    "extracted_data = load_pdf_file(data=\"data/\")"
   ]
  },
  {
   "cell_type": "markdown",
   "metadata": {},
   "source": [
    "### split text using langchain"
   ]
  },
  {
   "cell_type": "code",
   "execution_count": 5,
   "metadata": {},
   "outputs": [],
   "source": [
    "def text_split(extracted_data):\n",
    "    text_splitter = RecursiveCharacterTextSplitter(\n",
    "        chunk_size=500,\n",
    "        chunk_overlap=20,\n",
    "    )\n",
    "    text_chunks = text_splitter.split_documents(extracted_data)\n",
    "    return text_chunks\n",
    "\n",
    "text_chunks = text_split(extracted_data)"
   ]
  },
  {
   "cell_type": "markdown",
   "metadata": {},
   "source": [
    "### Create Embeddings using langchain HuggingfaceEmbedding class"
   ]
  },
  {
   "cell_type": "markdown",
   "metadata": {},
   "source": [
    "Model used all-MiniLM-L6"
   ]
  },
  {
   "cell_type": "code",
   "execution_count": 6,
   "metadata": {},
   "outputs": [],
   "source": [
    "!pip install sentence_transformers -q\n",
    "!pip install huggingface_hub -q"
   ]
  },
  {
   "cell_type": "code",
   "execution_count": 7,
   "metadata": {},
   "outputs": [
    {
     "name": "stderr",
     "output_type": "stream",
     "text": [
      "C:\\Users\\zisha\\AppData\\Local\\Temp\\ipykernel_4000\\1132866814.py:3: LangChainDeprecationWarning: The class `HuggingFaceEmbeddings` was deprecated in LangChain 0.2.2 and will be removed in 1.0. An updated version of the class exists in the :class:`~langchain-huggingface package and should be used instead. To use it run `pip install -U :class:`~langchain-huggingface` and import as `from :class:`~langchain_huggingface import HuggingFaceEmbeddings``.\n",
      "  embeddings = HuggingFaceEmbeddings(model_name=\"sentence-transformers/all-MiniLM-L6-v2\")\n",
      "c:\\Users\\zisha\\.conda\\envs\\env-bappymedgen\\lib\\site-packages\\tqdm\\auto.py:21: TqdmWarning: IProgress not found. Please update jupyter and ipywidgets. See https://ipywidgets.readthedocs.io/en/stable/user_install.html\n",
      "  from .autonotebook import tqdm as notebook_tqdm\n"
     ]
    }
   ],
   "source": [
    "from langchain.embeddings import HuggingFaceEmbeddings\n",
    "def download_embedding():\n",
    "    embeddings = HuggingFaceEmbeddings(model_name=\"sentence-transformers/all-MiniLM-L6-v2\")\n",
    "    return embeddings\n",
    "\n",
    "embeddings = download_embedding()"
   ]
  },
  {
   "cell_type": "code",
   "execution_count": 8,
   "metadata": {},
   "outputs": [
    {
     "name": "stdout",
     "output_type": "stream",
     "text": [
      "Length 384\n"
     ]
    }
   ],
   "source": [
    "# length of embeddings output\n",
    "query_result = embeddings.embed_query(\"What is a heart disease?\")\n",
    "print(\"Length\", len(query_result))"
   ]
  },
  {
   "cell_type": "markdown",
   "metadata": {},
   "source": [
    "## Create Vector Indexing using Pinecone"
   ]
  },
  {
   "cell_type": "code",
   "execution_count": 9,
   "metadata": {},
   "outputs": [],
   "source": [
    "!pip install pinecone[grpc] -q"
   ]
  },
  {
   "cell_type": "code",
   "execution_count": 10,
   "metadata": {},
   "outputs": [],
   "source": [
    "from pinecone.grpc import PineconeGRPC as Pinecone\n",
    "from pinecone import ServerlessSpec\n",
    "from dotenv import load_dotenv\n",
    "import time\n",
    "\n",
    "load_dotenv()\n",
    "\n",
    "PINECONE_API_KEY = os.getenv(\"PINECONE_API_KEY\")\n",
    "os.environ[\"PINECONE_API_KEY\"] = PINECONE_API_KEY\n",
    "\n",
    "pc = Pinecone(api_key= PINECONE_API_KEY)\n",
    "\n",
    "index_name = \"testbot\"\n",
    "\n",
    "if not pc.has_index(index_name):\n",
    "    pc.create_index(\n",
    "        name=index_name,\n",
    "        dimension=384,\n",
    "        metric=\"cosine\",\n",
    "        spec=ServerlessSpec(\n",
    "            cloud=\"aws\", \n",
    "            region=\"us-east-1\"\n",
    "        ) \n",
    "    ) \n",
    "\n",
    "# Wait for the index to be ready\n",
    "while not pc.describe_index(index_name).status['ready']:\n",
    "    time.sleep(1)"
   ]
  },
  {
   "cell_type": "code",
   "execution_count": 17,
   "metadata": {},
   "outputs": [],
   "source": [
    "# Embed each chunk and upsert the embedding into your Pinecone index\n",
    "from langchain_pinecone import PineconeVectorStore\n",
    "\n",
    "# docsearch = PineconeVectorStore.from_documents(\n",
    "#     documents=text_chunks, \n",
    "#     embedding=embeddings, \n",
    "#     index_name=index_name)"
   ]
  },
  {
   "cell_type": "code",
   "execution_count": 13,
   "metadata": {},
   "outputs": [],
   "source": [
    "from langchain_pinecone import PineconeVectorStore\n",
    "\n",
    "# Existing Index\n",
    "docsearch = PineconeVectorStore.from_existing_index(\n",
    "    embedding=embeddings, \n",
    "    index_name=index_name)"
   ]
  },
  {
   "cell_type": "code",
   "execution_count": 14,
   "metadata": {},
   "outputs": [
    {
     "data": {
      "text/plain": [
       "<langchain_pinecone.vectorstores.PineconeVectorStore at 0x1d7b31458a0>"
      ]
     },
     "execution_count": 14,
     "metadata": {},
     "output_type": "execute_result"
    }
   ],
   "source": [
    "docsearch"
   ]
  },
  {
   "cell_type": "code",
   "execution_count": 15,
   "metadata": {},
   "outputs": [],
   "source": [
    "retriever = docsearch.as_retriever(\n",
    "    search_type=\"similarity\",\n",
    "    search_kwargs={\"k\": 3}\n",
    ")"
   ]
  },
  {
   "cell_type": "code",
   "execution_count": 16,
   "metadata": {},
   "outputs": [
    {
     "name": "stderr",
     "output_type": "stream",
     "text": [
      "C:\\Users\\zisha\\AppData\\Local\\Temp\\ipykernel_4000\\1511955178.py:1: LangChainDeprecationWarning: The method `BaseRetriever.get_relevant_documents` was deprecated in langchain-core 0.1.46 and will be removed in 1.0. Use :meth:`~invoke` instead.\n",
      "  retrieved_docs = retriever.get_relevant_documents(\"What is a heart disease?\")\n"
     ]
    },
    {
     "name": "stdout",
     "output_type": "stream",
     "text": [
      "[Document(id='4f0706d5-11c3-4c66-8afd-f0d38b59e1a4', metadata={'creationdate': '2006-10-16T20:19:33+02:00', 'creator': 'Adobe Acrobat 6.0', 'moddate': '2006-10-16T22:03:45+02:00', 'page': 763.0, 'page_label': '734', 'producer': 'PDFlib+PDI 6.0.3 (SunOS)', 'source': 'data\\\\Gale_encyclopedia.pdf', 'total_pages': 4505.0}, page_content='Definition\\nCardiomyopathy is a chronic disease of the heart\\nmuscle (myocardium), in which the muscle is abnor-\\nmally enlarged, thickened, and/or stiffened. The wea-\\nkened heart muscle loses the ability to pump blood\\neffectively, resulting in irregular heartbeats (arrhyth-\\nmias) and possibly evenheart failure.\\nDescription\\nCardiomyopathy, a disease of the heart muscle,\\nprimarily affects the left ventricle, which is the main\\npumping chamber of the heart. The disease is often'), Document(id='cee615d1-a251-4016-bb35-f82c9b9baf90', metadata={'creationdate': '2006-10-16T20:19:33+02:00', 'creator': 'Adobe Acrobat 6.0', 'moddate': '2006-10-16T22:03:45+02:00', 'page': 2578.0, 'page_label': '2549', 'producer': 'PDFlib+PDI 6.0.3 (SunOS)', 'source': 'data\\\\Gale_encyclopedia.pdf', 'total_pages': 4505.0}, page_content='as P, Q, R, S, and T waves. Often used in the\\ndiagnosis of cases of abnormal cardiac rhythm\\nand myocardial damage.\\nHypertensive heart disease— High blood pressure\\nresulting in a disease of the heart.\\nIschemic heart disease— Insufficient blood supply\\nto the heart muscle (myocardium).\\nValvular heart disease— A disease of any one of the\\nfour valves that controls blood flow into, through,\\nand out of the heart.\\nVentricular tachycardia— An abnormally rapid'), Document(id='7473f641-8389-42ba-820a-305f39ad4889', metadata={'creationdate': '2006-10-16T20:19:33+02:00', 'creator': 'Adobe Acrobat 6.0', 'moddate': '2006-10-16T22:03:45+02:00', 'page': 1737.0, 'page_label': '1708', 'producer': 'PDFlib+PDI 6.0.3 (SunOS)', 'source': 'data\\\\Gale_encyclopedia.pdf', 'total_pages': 4505.0}, page_content='Some heart attacks go unrecognized. The heart muscle\\nsuffers damage when its blood supply is reduced or\\nblocked. If the damage affects the heart’s ability to\\npump blood, heart failure develops.\\nCardiomyopathy is a general term for disease of\\nthe heart muscle. Cardiomyopathy may be caused by\\ncoronary artery disease and various other heart prob-\\nlems. Sometimes the cause of cardiomyopathy cannot\\nbe found. In these cases the heart muscle disease is\\ncalled idiopathic cardiomyopathy. Whatever the')]\n"
     ]
    }
   ],
   "source": [
    "retrieved_docs = retriever.get_relevant_documents(\"What is a heart disease?\")\n",
    "print(retrieved_docs)"
   ]
  },
  {
   "cell_type": "markdown",
   "metadata": {},
   "source": [
    "## Load Chat Model"
   ]
  },
  {
   "cell_type": "code",
   "execution_count": 19,
   "metadata": {},
   "outputs": [],
   "source": [
    "from langchain.chat_models import ChatOllama\n",
    "llm = ChatOllama(temperature=0.4, max_tokens=600, model=\"llama2\")"
   ]
  },
  {
   "cell_type": "markdown",
   "metadata": {},
   "source": [
    "## Create a chain"
   ]
  },
  {
   "cell_type": "code",
   "execution_count": null,
   "metadata": {},
   "outputs": [],
   "source": [
    "from langchain.chains.retrieval import create_retrieval_chain\n",
    "from langchain.chains.combine_documents import create_stuff_documents_chain\n",
    "from langchain_core.prompts import ChatPromptTemplate\n",
    "\n",
    "system_prompt = (\n",
    "    \"You are an assistant for a question answering system. \"\n",
    "    \"Use the following pieces of context to answer the user's question.\"\n",
    "    \"If you don't know the answer, just say that you don't know, don't try to make up an answer.\"\n",
    "    \"Answer correctly.\"\n",
    "    \"\\n\\n\"\n",
    "    \"{context}\"\n",
    "    \"\\n\\n\"\n",
    ")\n",
    "\n",
    "prompt = ChatPromptTemplate.from_messages(\n",
    "    [\n",
    "        (\"system\", system_prompt),\n",
    "        (\"human\", \"{input}\"),\n",
    "    ]\n",
    ")"
   ]
  },
  {
   "cell_type": "markdown",
   "metadata": {},
   "source": [
    "## Testing"
   ]
  },
  {
   "cell_type": "code",
   "execution_count": 21,
   "metadata": {},
   "outputs": [],
   "source": [
    "question_answer_chain = create_stuff_documents_chain(llm, prompt)\n",
    "rag_chain = create_retrieval_chain(retriever, question_answer_chain)"
   ]
  },
  {
   "cell_type": "code",
   "execution_count": 22,
   "metadata": {},
   "outputs": [
    {
     "name": "stdout",
     "output_type": "stream",
     "text": [
      "According to the provided context, acne is a common skin disease characterized by pimples on the face, chest, and back. It occurs when the pores of the skin become clogged with oil, dead skin cells, and bacteria. The definition provided in the context states that acne is a condition where the sebaceous glands become inflamed, leading to pimples and other skin problems.\n"
     ]
    }
   ],
   "source": [
    "response = rag_chain.invoke({\"input\": \"What is Acne?\"})\n",
    "print(response[\"answer\"])"
   ]
  },
  {
   "cell_type": "code",
   "execution_count": 24,
   "metadata": {},
   "outputs": [
    {
     "name": "stdout",
     "output_type": "stream",
     "text": [
      "Thank you for your question! I'm happy to help you understand statistics.\n",
      "\n",
      "Statistics is a branch of mathematics that deals with the collection, analysis, interpretation, and presentation of data. It involves the use of mathematical techniques to summarize, visualize, and draw conclusions from data. The main goal of statistics is to extract meaningful information from data, make predictions, and support decision-making in various fields such as business, healthcare, social sciences, and many more.\n",
      "\n",
      "In your question, you mentioned the Stanford-Binet scale, which is a widely used intelligence test. The standard deviation of 16 in this case indicates how far scores are distributed above or below the mean score of 100. A higher standard deviation means that scores are more spread out, while a lower standard deviation means that scores are closer to the mean.\n",
      "\n",
      "In statistics, we use measures such as the mean and standard deviation to understand the distribution of data. For example, in a normal distribution, two standard deviations above and below the mean include about 95% of all samples. This means that most of the data points are within two standard deviations of the mean, which is a useful range for making predictions and drawing conclusions.\n",
      "\n",
      "Standardization is another important aspect of statistics. It involves establishing norms and procedures for a test or measurement tool to act as a standard reference point for future results. The Stanford-Binet test was standardized on a national representative sample of 5,000 subjects, which means that the scores were compared to a large group of people to determine what is considered normal or average.\n",
      "\n",
      "I hope this helps you understand statistics better! Let me know if you have any more questions.\n"
     ]
    }
   ],
   "source": [
    "response = rag_chain.invoke({\"input\": \"What is Statistics?\"})\n",
    "print(response[\"answer\"])"
   ]
  },
  {
   "cell_type": "code",
   "execution_count": 23,
   "metadata": {},
   "outputs": [
    {
     "name": "stdout",
     "output_type": "stream",
     "text": [
      "Based on the provided context, I can answer your question as follows:\n",
      "\n",
      "Heart disease refers to any condition that affects the heart's function or structure. The context you provided mentions several types of heart conditions, including:\n",
      "\n",
      "1. Ischemia: a condition where the heart muscle receives an insufficient supply of blood and slowly starves.\n",
      "2. Mitral stenosis: narrowing or constricting of the mitral valve, which separates the left atrium from the left ventricle.\n",
      "3. Pulmonary edema: fluid accumulation in the lungs and respiratory system.\n",
      "4. Heart murmur: a sound during the heartbeat caused by a heart valve that does not close properly.\n",
      "5. Rheumatic heart disease: a condition caused by a streptococcus infection that can result in permanent heart damage.\n",
      "6. Mitral valve stenosis: narrowing or constricting of the mitral valve, which separates the left atrium from the left ventricle.\n",
      "\n",
      "These conditions can affect the heart's ability to pump blood efficiently, leading to symptoms such as shortness of breath, fatigue, and swelling in the legs and feet. In some cases, heart disease can lead to serious complications, such as heart failure or stroke.\n"
     ]
    }
   ],
   "source": [
    "response = rag_chain.invoke({\"input\": \"What is Heart Desease?\"})\n",
    "print(response[\"answer\"])"
   ]
  },
  {
   "cell_type": "code",
   "execution_count": null,
   "metadata": {},
   "outputs": [],
   "source": []
  }
 ],
 "metadata": {
  "kernelspec": {
   "display_name": "Python 3",
   "language": "python",
   "name": "python3"
  },
  "language_info": {
   "codemirror_mode": {
    "name": "ipython",
    "version": 3
   },
   "file_extension": ".py",
   "mimetype": "text/x-python",
   "name": "python",
   "nbconvert_exporter": "python",
   "pygments_lexer": "ipython3",
   "version": "3.10.16"
  }
 },
 "nbformat": 4,
 "nbformat_minor": 2
}
